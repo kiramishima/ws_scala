{
 "cells": [
  {
   "cell_type": "code",
   "execution_count": null,
   "id": "2681233d-1108-4b8a-97ad-9b343112410f",
   "metadata": {},
   "outputs": [],
   "source": [
    "var x = \"text\"\n",
    "x"
   ]
  },
  {
   "cell_type": "code",
   "execution_count": null,
   "id": "905fd0e3-799c-422f-9250-f5ff2cca27b2",
   "metadata": {},
   "outputs": [],
   "source": []
  }
 ],
 "metadata": {
  "kernelspec": {
   "display_name": "Spark | Scala",
   "language": "",
   "name": "sparkkernel"
  },
  "language_info": {
   "name": ""
  }
 },
 "nbformat": 4,
 "nbformat_minor": 5
}
